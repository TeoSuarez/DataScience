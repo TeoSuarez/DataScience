{
  "nbformat": 4,
  "nbformat_minor": 0,
  "metadata": {
    "colab": {
      "name": "Fundamentos de Python Parte 1.ipynb",
      "provenance": [],
      "collapsed_sections": []
    },
    "kernelspec": {
      "name": "python3",
      "display_name": "Python 3"
    }
  },
  "cells": [
    {
      "cell_type": "markdown",
      "metadata": {
        "id": "nQRZ3u_b9bZd",
        "colab_type": "text"
      },
      "source": [
        "# Fundamentos de Python\n",
        "\n",
        "## Python Notebooks\n",
        "Los notebooks de Python proveen un ambiente interactivo para experimentación de código, visualización y publicación de resultados.\n",
        "\n",
        "Las casillas de color gris claro que se encuentran a continuación se denominan celdas y estas pueden contener código (code) o texto formateado (Markdown).\n",
        "\n",
        "* [Flechas arriba / abajo] Mover arriba y abajo de celda a celda.\n",
        "* [Enter] Ingresa una celda para editarla.\n",
        "* [Shift + Enter] Evalúa una celda, muestra el resultado y pasa a la siguiente celda.\n",
        "* [Ctrl + Enter] Evalúa una celda, muestra el resultado y permanece en la celda.\n",
        "* [Alt + Enter] Evalúa una celda, muestra el resultado e inserta una celda abajo.\n",
        "* [Esc] - [D] - [D] Eliminar una celda.\n",
        "* [Esc] - [Z] Deshacer eliminar una celda.\n",
        "* [Esc] - [B] Insertar una celda debajo de la celda actual.\n",
        "* [Esc] - [A] Insertar una celda sobre la celda actual.\n",
        "* [Esc] - [M] Convierte la celda de código en markdown.\n",
        "* [Esc] - [Y] Convierte la celda de Markdown a código.\n",
        "\n",
        "Para más atajos de teclado vaya al menú Ayuda -> Atajos de teclado"
      ]
    },
    {
      "cell_type": "markdown",
      "metadata": {
        "id": "sXKKKcpE9oUB",
        "colab_type": "text"
      },
      "source": [
        "## Variables en Python\n",
        "\n",
        "**Variable**: Es donde se guarda determinada información (texto, números, booleanas, etc.)\n",
        "\n",
        "Cada variable tiene un nombre para referirse a ella, Python tiene en cuenta si escribimos en mayúsculas o minúsculas la variable (case sensitive).\n",
        "\n",
        "Para definir variables en Python se realiza de la siguiente manera:\n",
        "\n",
        "```python\n",
        "# Asignando un valor\n",
        "variable = valor\n",
        "# Asignando varios valores\n",
        "variable1, variable2 = valor1, valor2\n",
        "```\n",
        "\n",
        "Python al asignar la variable define cual es el tipo de datos más apropiado.  \n",
        "\n",
        "### Números\n",
        "\n",
        "En números hay dos tipos principales, los números enteros (int) y los reales (float).  El separador decimal es el punto.\n",
        "\n",
        "```python\n",
        "entero = 2\n",
        "real = 2.5\n",
        "```\n",
        "\n",
        "### Texto\n",
        "\n",
        "Las variables que almacenan texto se denominan strings (str).  Se deben de poner entre commillas sencillas o dobles, si el texto es multilinea con triple comilla.\n",
        "\n",
        "```python\n",
        "cadena = \"Hola\"\n",
        "cadena = 'Hola'\n",
        "multilinea = \"\"\" Hola\n",
        "                Mundo \"\"\"\n",
        "multilinea = ''' Hola\n",
        "                Mundo '''             \n",
        "```\n",
        "\n",
        "### Listas\n",
        "\n",
        "Son conjuntos ordenados de elementos (números, texto, listas, etc). Se delimitan por corchetes (`[]`) y los elementos se separan por comas. Las listas son dinamicas, es decir que son mutables.\n",
        "\n",
        "```python\n",
        "listaNumeros = [1,2,3]\n",
        "listaCadenas = ['a','b','c']\n",
        "listaListas = [[1,2],[3,4],[5,6]]\n",
        "listaMixtas = [1,'Grupo',[1,2,3,4]]\n",
        "listaVacia = []\n",
        "```\n",
        "\n",
        "### Tuplas\n",
        "\n",
        "Es un conjunto ordenado e inmutable de elementos del mismo o diferente tipo. Las tuplas se representan escribiendo los elementos entre paréntesis (`()`) y separados por comas. Las tuplas son estaticas, son inmutables, una vez creada no puede ser modificada.\n",
        "\n",
        "```python\n",
        "tuplaNumeros = (1,2,3)\n",
        "tuplaCadenas = ('a','b','c')\n",
        "tuplaListas = ([1,2],[3,4],[5,6])\n",
        "tuplaMixtas = (1,'Grupo',[1,2,3,4])\n",
        "```\n",
        "\n",
        "### Diccionarios\n",
        "\n",
        "Permite almacenar cualquier tipo de valor como enteros, cadenas, listas, etc.  Los diccionarios permiten además identificar cada elemento por una clave (key)\n",
        "\n",
        "```python\n",
        "dictNumeros = {'k1':1,'k2':2}\n",
        "dictCadenas = {'k1':'a','k2':'b','k3':'c'}\n",
        "dictListas = {'k1':[1,2],'k2':[3,4],'k3':[5,6]}\n",
        "dictMixto = {'k1':1,'k2':'Grupo','k3':[1,2,3,4]}\n",
        "```\n",
        "\n",
        "### Booleano\n",
        "\n",
        "Una variable booleana es una variable que sólo puede tomar dos posibles valores: Verdadero (True) o Falso (False).\n",
        "\n",
        "```python\n",
        "verdadero = True\n",
        "falso = False\n",
        "```\n",
        "\n",
        "### None\n",
        "\n",
        "Es el tipo de dato que en otros lenguajes se conoce como Nulo (NAN).  En Python es NoneType.\n",
        "\n",
        "```python\n",
        "nulo = None\n",
        "```\n",
        "\n",
        "### Imprimir variables\n",
        "\n",
        "El comando `print(variable)` imprime el valor de la variable.\n",
        "\n",
        "\n",
        "### Comentarios\n",
        "\n",
        "Los comentarios en linea se define con `#`"
      ]
    },
    {
      "cell_type": "code",
      "metadata": {
        "id": "BFipE-Vt9n-3",
        "colab_type": "code",
        "colab": {}
      },
      "source": [
        "# Declarando un entero (int)\n",
        "x = 2\n",
        "print(\"Es un entero: \", x)"
      ],
      "execution_count": 0,
      "outputs": []
    },
    {
      "cell_type": "code",
      "metadata": {
        "id": "Okg6MQ0Wcxt_",
        "colab_type": "code",
        "colab": {}
      },
      "source": [
        "x"
      ],
      "execution_count": 0,
      "outputs": []
    },
    {
      "cell_type": "code",
      "metadata": {
        "id": "9PwUJ1adFreY",
        "colab_type": "code",
        "colab": {}
      },
      "source": [
        "# Declarando un real (float)\n",
        "y = 2.5\n",
        "print(\"Es un real: \", y)"
      ],
      "execution_count": 0,
      "outputs": []
    },
    {
      "cell_type": "code",
      "metadata": {
        "id": "F_m4IRhqEo9r",
        "colab_type": "code",
        "colab": {}
      },
      "source": [
        "# Declarando un texto\n",
        "mensaje = \"Hola Mundo\"\n",
        "print(mensaje, \" Grupo\")\n",
        "mensaje = 'Hola Mundo'\n",
        "print(mensaje, \" Grupo\")"
      ],
      "execution_count": 0,
      "outputs": []
    },
    {
      "cell_type": "code",
      "metadata": {
        "id": "Ef0qUaAE9Qg-",
        "colab_type": "code",
        "colab": {}
      },
      "source": [
        "# Multilinea\n",
        "multilinea = \"\"\"Hola \n",
        "                Mundo\"\"\"\n",
        "print(multilinea, \" Grupo\")\n",
        "multilinea = '''Hola \n",
        "                Mundo'''\n",
        "print(multilinea, \" Grupo\")"
      ],
      "execution_count": 0,
      "outputs": []
    },
    {
      "cell_type": "code",
      "metadata": {
        "id": "eo2ybr55dFy1",
        "colab_type": "code",
        "colab": {}
      },
      "source": [
        "multilinea"
      ],
      "execution_count": 0,
      "outputs": []
    },
    {
      "cell_type": "code",
      "metadata": {
        "id": "4TeMiF79RuWZ",
        "colab_type": "code",
        "colab": {}
      },
      "source": [
        "# Declarando una lista\n",
        "listaNumeros = [1,2,3]\n",
        "print(listaNumeros)\n",
        "listaCadenas = ['a','b','c']\n",
        "print(listaCadenas)\n",
        "listaListas = [[1,2],[3,4],[5,6]]\n",
        "print(listaListas)\n",
        "listaMixtas = [1,'Grupo',[1,2,3,4]]\n",
        "print(listaMixtas)\n",
        "listaVacia = []\n",
        "print(listaVacia)"
      ],
      "execution_count": 0,
      "outputs": []
    },
    {
      "cell_type": "code",
      "metadata": {
        "id": "-vZwr-fiSElu",
        "colab_type": "code",
        "colab": {}
      },
      "source": [
        "# Declarando una Tupla\n",
        "tuplaNumeros = (1,2,3)\n",
        "print(tuplaNumeros)\n",
        "tuplaCadenas = ('a','b','c')\n",
        "print(tuplaCadenas)\n",
        "tuplaListas = ([1,2],[3,4],[5,6])\n",
        "print(tuplaListas)\n",
        "tuplaMixtas = (1,'Grupo',[1,2,3,4])\n",
        "print(tuplaMixtas)"
      ],
      "execution_count": 0,
      "outputs": []
    },
    {
      "cell_type": "code",
      "metadata": {
        "id": "eEfYQVO0QUK0",
        "colab_type": "code",
        "colab": {}
      },
      "source": [
        "# Declarando Diccionarios\n",
        "dictNumeros = {'k1':1,'k2':2}\n",
        "print(dictNumeros)\n",
        "dictCadenas = {'k1':'a','k2':'b','k3':'c'}\n",
        "print(dictCadenas)\n",
        "dictListas = {'k1':[1,2],'k2':[3,4],'k3':[5,6]}\n",
        "print(dictListas)\n",
        "dictMixto = {'k1':1,'k2':'Grupo','k3':[1,2,3,4]}\n",
        "print(dictMixto)"
      ],
      "execution_count": 0,
      "outputs": []
    },
    {
      "cell_type": "code",
      "metadata": {
        "id": "XVxY6TvdT3Wq",
        "colab_type": "code",
        "colab": {}
      },
      "source": [
        "# Declarando Booleanos\n",
        "verdadero = True\n",
        "falso = False"
      ],
      "execution_count": 0,
      "outputs": []
    },
    {
      "cell_type": "code",
      "metadata": {
        "id": "EkoVYvtxV1HE",
        "colab_type": "code",
        "colab": {}
      },
      "source": [
        "# Declarando Nulos\n",
        "nulo = None"
      ],
      "execution_count": 0,
      "outputs": []
    },
    {
      "cell_type": "code",
      "metadata": {
        "id": "ePanpd5_yuvs",
        "colab_type": "code",
        "colab": {}
      },
      "source": [
        "# Asignaciones Múltiples\n",
        "var1, var2, var3 =  ( 5 + 4),  \"Sara\", [13, 17, 23]\n",
        "print( \"var1 =\", var1 )\n",
        "print( \"var2 =\", var2 )\n",
        "print( \"var3 =\", var3 )"
      ],
      "execution_count": 0,
      "outputs": []
    },
    {
      "cell_type": "code",
      "metadata": {
        "id": "ng7xqXo1y1OK",
        "colab_type": "code",
        "colab": {}
      },
      "source": [
        "# Cambiar valores entre variables\n",
        "var1, var2 = var2, var1 \n",
        "\n",
        "print( \"var1 =\", var1 )\n",
        "print( \"var2 =\", var2 )"
      ],
      "execution_count": 0,
      "outputs": []
    },
    {
      "cell_type": "code",
      "metadata": {
        "id": "lzYcQo3xy3X1",
        "colab_type": "code",
        "colab": {}
      },
      "source": [
        "# Crear una tupla con variables\n",
        "tupla = var1, var2, var3\n",
        "print(tupla)"
      ],
      "execution_count": 0,
      "outputs": []
    },
    {
      "cell_type": "code",
      "metadata": {
        "id": "xmychpyTzbpH",
        "colab_type": "code",
        "colab": {}
      },
      "source": [
        "# Asignar valores de una tupla a variables\n",
        "x1, x2, x3 = tupla \n",
        "\n",
        "print( \"  x1 =\", x1, \"   x2 =\", x2, \"   x3 =\", x3 )"
      ],
      "execution_count": 0,
      "outputs": []
    },
    {
      "cell_type": "markdown",
      "metadata": {
        "id": "4oeZ9NOVSrCp",
        "colab_type": "text"
      },
      "source": [
        "## Tipo de Datos\n",
        "\n",
        "Para conocer el tipo de dato de una variable se usa el metodo `type`\n",
        "\n",
        "```python\n",
        "type(x)\n",
        "````"
      ]
    },
    {
      "cell_type": "code",
      "metadata": {
        "id": "3YewJ_loS_Ia",
        "colab_type": "code",
        "colab": {}
      },
      "source": [
        "print(x)\n",
        "type(x)"
      ],
      "execution_count": 0,
      "outputs": []
    },
    {
      "cell_type": "code",
      "metadata": {
        "id": "G-4cFZyOTCnn",
        "colab_type": "code",
        "colab": {}
      },
      "source": [
        "print(y)\n",
        "type(y)"
      ],
      "execution_count": 0,
      "outputs": []
    },
    {
      "cell_type": "code",
      "metadata": {
        "id": "2f0ISTp8TMQ9",
        "colab_type": "code",
        "colab": {}
      },
      "source": [
        "type(mensaje)"
      ],
      "execution_count": 0,
      "outputs": []
    },
    {
      "cell_type": "code",
      "metadata": {
        "id": "EElQqkS5TDrA",
        "colab_type": "code",
        "colab": {}
      },
      "source": [
        "type(listaNumeros)"
      ],
      "execution_count": 0,
      "outputs": []
    },
    {
      "cell_type": "code",
      "metadata": {
        "id": "h3vxZvYHTFv0",
        "colab_type": "code",
        "colab": {}
      },
      "source": [
        "type(tuplaListas)"
      ],
      "execution_count": 0,
      "outputs": []
    },
    {
      "cell_type": "code",
      "metadata": {
        "id": "htItuqj8THum",
        "colab_type": "code",
        "colab": {}
      },
      "source": [
        "type(dictCadenas)"
      ],
      "execution_count": 0,
      "outputs": []
    },
    {
      "cell_type": "code",
      "metadata": {
        "id": "Nw0sMJ5jTKP5",
        "colab_type": "code",
        "colab": {}
      },
      "source": [
        "type(verdadero)"
      ],
      "execution_count": 0,
      "outputs": []
    },
    {
      "cell_type": "code",
      "metadata": {
        "id": "KAUkTMqlT_zw",
        "colab_type": "code",
        "colab": {}
      },
      "source": [
        "type(nulo)"
      ],
      "execution_count": 0,
      "outputs": []
    },
    {
      "cell_type": "markdown",
      "metadata": {
        "id": "QXww97zYV-tL",
        "colab_type": "text"
      },
      "source": [
        "## Operadores Aritméticos\n",
        "\n",
        "| Symbol | Task Performed |\n",
        "|----|---|\n",
        "| +  | Addition |\n",
        "| -  | Subtraction |\n",
        "| /  | division |\n",
        "| %  | mod |\n",
        "| *  | multiplication |\n",
        "| //  | floor division |\n",
        "| **  | exponentiation |\n",
        "| ~   | negation |\n",
        "\n",
        "Python dependiendo del tipo de dato realiza las operaciones."
      ]
    },
    {
      "cell_type": "code",
      "metadata": {
        "id": "SIaOq1g5V407",
        "colab_type": "code",
        "colab": {}
      },
      "source": [
        "# Adición y sustracción\n",
        "print(5 + 5)\n",
        "print(5 - 5)"
      ],
      "execution_count": 0,
      "outputs": []
    },
    {
      "cell_type": "code",
      "metadata": {
        "id": "lMphMtfOWXRj",
        "colab_type": "code",
        "colab": {}
      },
      "source": [
        "# Multiplicación y división\n",
        "print(3 * 5)\n",
        "print(10 / 2)"
      ],
      "execution_count": 0,
      "outputs": []
    },
    {
      "cell_type": "code",
      "metadata": {
        "id": "JthtByGXWZRX",
        "colab_type": "code",
        "colab": {}
      },
      "source": [
        "# Exponenciación y Modulo\n",
        "print(4 ** 2)\n",
        "print(18 % 7)"
      ],
      "execution_count": 0,
      "outputs": []
    },
    {
      "cell_type": "code",
      "metadata": {
        "id": "QYBATeTNWbry",
        "colab_type": "code",
        "colab": {}
      },
      "source": [
        "# Operaciones con cadenas\n",
        "mensaje1 = \"Hola \"\n",
        "mensaje2 = \"Grupo\"\n",
        "print(mensaje1 + mensaje2)"
      ],
      "execution_count": 0,
      "outputs": []
    },
    {
      "cell_type": "code",
      "metadata": {
        "id": "Fo_L_km3vFk2",
        "colab_type": "code",
        "colab": {}
      },
      "source": [
        "# Operaciones con cadenas\n",
        "mensaje1 = \"Hola \"\n",
        "print(mensaje1*2)"
      ],
      "execution_count": 0,
      "outputs": []
    },
    {
      "cell_type": "code",
      "metadata": {
        "id": "okHLoEPPe_6_",
        "colab_type": "code",
        "colab": {}
      },
      "source": [
        "print(verdadero + falso)"
      ],
      "execution_count": 0,
      "outputs": []
    },
    {
      "cell_type": "code",
      "metadata": {
        "id": "JfFkdW_QfGI1",
        "colab_type": "code",
        "colab": {}
      },
      "source": [
        "print(1 + 2.5)"
      ],
      "execution_count": 0,
      "outputs": []
    },
    {
      "cell_type": "markdown",
      "metadata": {
        "id": "ewhJQUd1xIzk",
        "colab_type": "text"
      },
      "source": [
        "## Operadores Relacionales\n",
        "\n",
        "| Symbol | Task Performed |\n",
        "|----|---|\n",
        "| == | True, if values are equal |\n",
        "| is | True, if identical, i.e. the **same** object  |\n",
        "| !=  | True, if not equal to |\n",
        "| < | less than |\n",
        "| > | greater than |\n",
        "| <=  | less than or equal to |\n",
        "| >=  | greater than or equal to |\n",
        "| in  | test pertenence to a collection (list, set, dictionary) |"
      ]
    },
    {
      "cell_type": "code",
      "metadata": {
        "id": "DX7u7Bwuvqju",
        "colab_type": "code",
        "colab": {}
      },
      "source": [
        "x == 2"
      ],
      "execution_count": 0,
      "outputs": []
    },
    {
      "cell_type": "code",
      "metadata": {
        "id": "_ePQNuWsxVyn",
        "colab_type": "code",
        "colab": {}
      },
      "source": [
        "x != 2"
      ],
      "execution_count": 0,
      "outputs": []
    },
    {
      "cell_type": "code",
      "metadata": {
        "id": "o0sZeceWxe1q",
        "colab_type": "code",
        "colab": {}
      },
      "source": [
        "x > 1"
      ],
      "execution_count": 0,
      "outputs": []
    },
    {
      "cell_type": "code",
      "metadata": {
        "id": "lSxRyT8yxhXl",
        "colab_type": "code",
        "colab": {}
      },
      "source": [
        "listaNumeros == [1,2,3]"
      ],
      "execution_count": 0,
      "outputs": []
    },
    {
      "cell_type": "code",
      "metadata": {
        "id": "7xANJ8z0yGiT",
        "colab_type": "code",
        "colab": {}
      },
      "source": [
        "listaNumeros is [1,2,3]"
      ],
      "execution_count": 0,
      "outputs": []
    },
    {
      "cell_type": "code",
      "metadata": {
        "id": "jYTQcIrQyNPO",
        "colab_type": "code",
        "colab": {}
      },
      "source": [
        "objecto = listaNumeros"
      ],
      "execution_count": 0,
      "outputs": []
    },
    {
      "cell_type": "code",
      "metadata": {
        "id": "tcfMl4DkySoV",
        "colab_type": "code",
        "colab": {}
      },
      "source": [
        "listaNumeros is objecto"
      ],
      "execution_count": 0,
      "outputs": []
    },
    {
      "cell_type": "code",
      "metadata": {
        "id": "d0ukty2gyU_g",
        "colab_type": "code",
        "colab": {}
      },
      "source": [
        "nulo is None"
      ],
      "execution_count": 0,
      "outputs": []
    },
    {
      "cell_type": "markdown",
      "metadata": {
        "id": "6wJlJ4wbzryr",
        "colab_type": "text"
      },
      "source": [
        "## Conversiones entre tipos\n",
        "\n",
        "Python cuenta con la conversión de tipos de datos (*cast* o *casting*) que especifica explicitamente el tipo de dato.\n",
        "\n",
        "```python\n",
        "int(variable)\n",
        "float(variable)\n",
        "str(variable)\n",
        "bool(variable)\n",
        "list(variable)\n",
        "tuple(variable)\n",
        "dict(variable)\n",
        "```"
      ]
    },
    {
      "cell_type": "code",
      "metadata": {
        "id": "ISaM6FKyyZ3M",
        "colab_type": "code",
        "colab": {}
      },
      "source": [
        "# Convertir Lista a tupla\n",
        "print(listaCadenas)\n",
        "print(type(listaCadenas))\n",
        "print(tuple(listaCadenas))\n",
        "print(type(tuple(listaCadenas)))"
      ],
      "execution_count": 0,
      "outputs": []
    },
    {
      "cell_type": "code",
      "metadata": {
        "id": "UBIJVcId0wW8",
        "colab_type": "code",
        "colab": {}
      },
      "source": [
        "# Convertir de cadena a entero\n",
        "print('123')\n",
        "print(type('123'))\n",
        "print(int('123'))\n",
        "print(type(int('123')))"
      ],
      "execution_count": 0,
      "outputs": []
    },
    {
      "cell_type": "code",
      "metadata": {
        "id": "BRiLSVzzgjtY",
        "colab_type": "code",
        "colab": {}
      },
      "source": [
        "float(\"Juan\")"
      ],
      "execution_count": 0,
      "outputs": []
    },
    {
      "cell_type": "markdown",
      "metadata": {
        "id": "DVpFtIj32mmw",
        "colab_type": "text"
      },
      "source": [
        "## Funciones Integradas (Built-in Functions)\n",
        "\n",
        "**Funciones:** Una función es un bloque de código con un nombre asociado, que recibe $0$ o más argumentos como entrada, sigue una serie de instrucciones y devuelve un valor o realiza una tarea.\n",
        "\n",
        "Python dispone de una serie de funciones intregradas al lenguaje( [built-in](https://docs.python.org/3/library/functions.html))\n",
        "\n",
        "Un ejemplo de estas funciones son las vistas en los anteriores puntos como las de convertir tipos de datos y la de imprimir."
      ]
    },
    {
      "cell_type": "code",
      "metadata": {
        "id": "Qb6bB4_w2HyO",
        "colab_type": "code",
        "colab": {}
      },
      "source": [
        "# Ingresar valor por teclado\n",
        "entrada = int(input(\"Ingrese un número entero: \"))\n",
        "print(entrada**2)"
      ],
      "execution_count": 0,
      "outputs": []
    },
    {
      "cell_type": "code",
      "metadata": {
        "id": "HjRNCpJohOKw",
        "colab_type": "code",
        "colab": {}
      },
      "source": [
        "# Ingresar valor por teclado\n",
        "entrada = input(\"Ingrese un número entero: \")\n",
        "print(entrada*2)"
      ],
      "execution_count": 0,
      "outputs": []
    },
    {
      "cell_type": "code",
      "metadata": {
        "id": "woZoZTWq4Gtt",
        "colab_type": "code",
        "colab": {}
      },
      "source": [
        "2# Valor absoluto de un numero\n",
        "print(abs(-1))"
      ],
      "execution_count": 0,
      "outputs": []
    },
    {
      "cell_type": "markdown",
      "metadata": {
        "id": "N40jkNVI4YmN",
        "colab_type": "text"
      },
      "source": [
        "### Ejercicio 1:\n",
        "\n",
        "\n",
        "Ejecute las siguientes 3 celdas e infiera lo que hace la función round incorporada con uno o dos argumentos."
      ]
    },
    {
      "cell_type": "code",
      "metadata": {
        "id": "VkyhSmMk4RaH",
        "colab_type": "code",
        "colab": {}
      },
      "source": [
        "round( -4.78 )"
      ],
      "execution_count": 0,
      "outputs": []
    },
    {
      "cell_type": "code",
      "metadata": {
        "id": "WapQDqox4cHj",
        "colab_type": "code",
        "colab": {}
      },
      "source": [
        "round( -3.141516297, 4 )"
      ],
      "execution_count": 0,
      "outputs": []
    },
    {
      "cell_type": "code",
      "metadata": {
        "id": "-U7anAw14hOp",
        "colab_type": "code",
        "colab": {}
      },
      "source": [
        "round( -3.141516297, 5 )"
      ],
      "execution_count": 0,
      "outputs": []
    },
    {
      "cell_type": "markdown",
      "metadata": {
        "id": "08Nk8EON4nI-",
        "colab_type": "text"
      },
      "source": [
        "### Ejercicio 2:\n",
        "\n",
        "\n",
        "Desde la pagina de las funciones integradas [built-in](https://docs.python.org/3/library/functions.html), consulte la forma de usar la función `min()` y `max()`.\n",
        "\n",
        "- Cree una lista con los valores 42, 17 y 68.\n",
        "- Usando la función `min()`, imprima el valor minimo.\n",
        "- Usando la función `max()`, imprima el valor maximo.\n",
        "- Validar si hay una función que me devuelva la suma?"
      ]
    },
    {
      "cell_type": "code",
      "metadata": {
        "id": "Be4ueHtS48L9",
        "colab_type": "code",
        "colab": {}
      },
      "source": [
        "# Su Código"
      ],
      "execution_count": 0,
      "outputs": []
    },
    {
      "cell_type": "markdown",
      "metadata": {
        "id": "8EcYyyUg5sje",
        "colab_type": "text"
      },
      "source": [
        "## Ayuda \n",
        "\n",
        "Python cuenta con `help()` y `?` que nos devuelve una descripción de la función que queremos conocer."
      ]
    },
    {
      "cell_type": "code",
      "metadata": {
        "id": "FhI6URox5r1C",
        "colab_type": "code",
        "colab": {}
      },
      "source": [
        "help(range)"
      ],
      "execution_count": 0,
      "outputs": []
    },
    {
      "cell_type": "code",
      "metadata": {
        "id": "NwiBPFNL4htU",
        "colab_type": "code",
        "colab": {}
      },
      "source": [
        "?range"
      ],
      "execution_count": 0,
      "outputs": []
    },
    {
      "cell_type": "markdown",
      "metadata": {
        "id": "LVu8VIk46X8P",
        "colab_type": "text"
      },
      "source": [
        "### Ejercicio 3:\n",
        "\n",
        "Cree una variable llamada rango y asignele range(1, 100, 5), luego imprima la variable convirtiendola primero a lista, cual es el resultado?"
      ]
    },
    {
      "cell_type": "code",
      "metadata": {
        "id": "VH9a6FPw6Q5o",
        "colab_type": "code",
        "colab": {}
      },
      "source": [
        "# Su código"
      ],
      "execution_count": 0,
      "outputs": []
    },
    {
      "cell_type": "markdown",
      "metadata": {
        "id": "Q8gb4Oeu64PR",
        "colab_type": "text"
      },
      "source": [
        "## Manejo de Strings\n",
        "\n",
        "**IMPORTANTE:** Strings pueden ser definidos con doble comilla (\"...\") or comilla simple ('...'), las dos sintaxis hacen exactamente lo mismo!"
      ]
    },
    {
      "cell_type": "code",
      "metadata": {
        "id": "jSLgU0z66-zg",
        "colab_type": "code",
        "colab": {}
      },
      "source": [
        "'Juan' == \"Juan\""
      ],
      "execution_count": 0,
      "outputs": []
    },
    {
      "cell_type": "code",
      "metadata": {
        "id": "GKPmUo9t7BGL",
        "colab_type": "code",
        "colab": {}
      },
      "source": [
        "'Juan said: \"Yeah\"' == \"Juan said: \\\"Yeah\\\"\""
      ],
      "execution_count": 0,
      "outputs": []
    },
    {
      "cell_type": "code",
      "metadata": {
        "id": "JBC5jESk7Cg5",
        "colab_type": "code",
        "colab": {}
      },
      "source": [
        "\"Juan's sisters\" == 'Juan\\'s sisters' "
      ],
      "execution_count": 0,
      "outputs": []
    },
    {
      "cell_type": "code",
      "metadata": {
        "id": "AecDLAtz7EaW",
        "colab_type": "code",
        "colab": {}
      },
      "source": [
        "'I feel \\U0001F604'"
      ],
      "execution_count": 0,
      "outputs": []
    },
    {
      "cell_type": "markdown",
      "metadata": {
        "id": "q2HaBEgu7Q09",
        "colab_type": "text"
      },
      "source": [
        "### Interpolación de Cadenas\n",
        "\n",
        "El camino más facil para insertar dinamicamente variable en cadenas es a través de la interpolación de cadenas usando:\n",
        "\n",
        "la sintaxis f\"....{var1}... {var2}\"."
      ]
    },
    {
      "cell_type": "code",
      "metadata": {
        "id": "XvtpEddD7N34",
        "colab_type": "code",
        "colab": {}
      },
      "source": [
        "juans_height = 1.70\n",
        "num_siblings = 2 \n",
        "\n",
        "f\"Juan is {juans_height} meters tall and has {num_siblings} brothers and sisters\""
      ],
      "execution_count": 0,
      "outputs": []
    },
    {
      "cell_type": "markdown",
      "metadata": {
        "id": "aR8X5EiE7coN",
        "colab_type": "text"
      },
      "source": [
        "También se puede especificar la precisión con la sintaxis \"...{var:.#f}...\", donde # es el número de digitos decimales."
      ]
    },
    {
      "cell_type": "code",
      "metadata": {
        "id": "MYGFxfZw7GIg",
        "colab_type": "code",
        "colab": {}
      },
      "source": [
        "f\"Juan is {juans_height:.2f} meters tall\""
      ],
      "execution_count": 0,
      "outputs": []
    },
    {
      "cell_type": "markdown",
      "metadata": {
        "id": "5eaX-VOl8gNH",
        "colab_type": "text"
      },
      "source": [
        "Expresiones Full incluyendo llamado a funciones:"
      ]
    },
    {
      "cell_type": "code",
      "metadata": {
        "id": "kd7aEh247fiA",
        "colab_type": "code",
        "colab": {}
      },
      "source": [
        "luisas_height = 1.60\n",
        "f\"Juan is { round( (juans_height - luisas_height)* 100 )  } cm taller than Luisa\""
      ],
      "execution_count": 0,
      "outputs": []
    },
    {
      "cell_type": "markdown",
      "metadata": {
        "id": "9k8nP6KfUqP-",
        "colab_type": "text"
      },
      "source": [
        "Una sintaxis ligeramente más nueva y que mejor utiliza el método de formato en cadenas:"
      ]
    },
    {
      "cell_type": "code",
      "metadata": {
        "id": "LQZPEbML8jE1",
        "colab_type": "code",
        "colab": {}
      },
      "source": [
        "\"Juan is {jh} meters tall and has {ns} brothers and sisters\".format( jh= juans_height, ns=num_siblings  )"
      ],
      "execution_count": 0,
      "outputs": []
    },
    {
      "cell_type": "markdown",
      "metadata": {
        "id": "1apCM1CGUwW1",
        "colab_type": "text"
      },
      "source": [
        "La siguiente es también una solución común simple, aunque no la más eficiente."
      ]
    },
    {
      "cell_type": "code",
      "metadata": {
        "id": "TBunBtXjUsoR",
        "colab_type": "code",
        "colab": {}
      },
      "source": [
        "\"Juan is \" + str(juans_height) + \" meters tall and has \" + str(num_siblings) + \" brothers and sisters\" "
      ],
      "execution_count": 0,
      "outputs": []
    },
    {
      "cell_type": "markdown",
      "metadata": {
        "id": "moIWuEuSVDeY",
        "colab_type": "text"
      },
      "source": [
        "Como en C/Java, etc., una cadena puede también contener códigos especiales como salto de linea ('\\n') y tabulación ('\\t')."
      ]
    },
    {
      "cell_type": "code",
      "metadata": {
        "id": "muMtTOvCUyTA",
        "colab_type": "code",
        "colab": {}
      },
      "source": [
        "a_str = f\"Juan is {juans_height} meters tall\\n\\tand has {num_siblings} brothers\\nand sisters\"\n",
        "print( a_str )"
      ],
      "execution_count": 0,
      "outputs": []
    },
    {
      "cell_type": "markdown",
      "metadata": {
        "id": "ogKJg_EnV6Rz",
        "colab_type": "text"
      },
      "source": [
        "### Indexación de Cadenas\n",
        "\n",
        "Las cadenas de Python son cadenas de caracteres, y cada carácter reside en un índice a partir de $0$ (para el primer carácter) y terminando en longitud de cadena $-1$ (para el último carácter).\n",
        "\n",
        "|G|r|u|p|o|\n",
        "|-|-|-|-|-|\n",
        "|0|1|2|3|4|\n",
        "|-|-|-|-|-|\n",
        "|-5|-4|-3|-2|-1|\n"
      ]
    },
    {
      "cell_type": "code",
      "metadata": {
        "id": "eH2_X2f_VHb_",
        "colab_type": "code",
        "colab": {}
      },
      "source": [
        "cadena = \"Juan's height u\""
      ],
      "execution_count": 0,
      "outputs": []
    },
    {
      "cell_type": "code",
      "metadata": {
        "id": "NxDyPy2eX-c3",
        "colab_type": "code",
        "colab": {}
      },
      "source": [
        "print(\"Primer caracter: \",cadena[0])\n",
        "print(\"Ultimo caracter: \",cadena[-1])"
      ],
      "execution_count": 0,
      "outputs": []
    },
    {
      "cell_type": "code",
      "metadata": {
        "id": "anXi-2fLYBA7",
        "colab_type": "code",
        "colab": {}
      },
      "source": [
        "print(type(cadena[0]))"
      ],
      "execution_count": 0,
      "outputs": []
    },
    {
      "cell_type": "markdown",
      "metadata": {
        "id": "qrpLrpeZYUvH",
        "colab_type": "text"
      },
      "source": [
        "Las cadenas son inmutables"
      ]
    },
    {
      "cell_type": "code",
      "metadata": {
        "id": "9uvqrUN7YPk2",
        "colab_type": "code",
        "colab": {}
      },
      "source": [
        "cadena[1] = 'o'"
      ],
      "execution_count": 0,
      "outputs": []
    },
    {
      "cell_type": "markdown",
      "metadata": {
        "id": "Qgn2BDHPZSlV",
        "colab_type": "text"
      },
      "source": [
        "Si se desea cambiar el valor de un caracter de una cadena se debe de usar las funciones propias del objeto string."
      ]
    },
    {
      "cell_type": "code",
      "metadata": {
        "id": "vz3CFTw0ZR4l",
        "colab_type": "code",
        "colab": {}
      },
      "source": [
        "str.replace(cadena,'u','o')"
      ],
      "execution_count": 0,
      "outputs": []
    },
    {
      "cell_type": "code",
      "metadata": {
        "id": "jQRoC1ccuaPO",
        "colab_type": "code",
        "colab": {}
      },
      "source": [
        "cadena = str.replace(cadena,'u','o')\n",
        "print(cadena)"
      ],
      "execution_count": 0,
      "outputs": []
    },
    {
      "cell_type": "markdown",
      "metadata": {
        "id": "-NR8eEZuZ8CI",
        "colab_type": "text"
      },
      "source": [
        "Si se desea conocer el tamaño de la cadena de caracteres se usa el metodo `len(cadena)`."
      ]
    },
    {
      "cell_type": "code",
      "metadata": {
        "id": "R-DN26BbYaKe",
        "colab_type": "code",
        "colab": {}
      },
      "source": [
        "len(cadena)"
      ],
      "execution_count": 0,
      "outputs": []
    },
    {
      "cell_type": "markdown",
      "metadata": {
        "id": "dRYVXYPbg-Up",
        "colab_type": "text"
      },
      "source": [
        "Si se desea conocer si un caracter esta en una cadena de caracteres se usa el operador `in`."
      ]
    },
    {
      "cell_type": "code",
      "metadata": {
        "id": "Em3epH4FgyuK",
        "colab_type": "code",
        "colab": {}
      },
      "source": [
        "'a' in cadena"
      ],
      "execution_count": 0,
      "outputs": []
    },
    {
      "cell_type": "markdown",
      "metadata": {
        "id": "2ExiuuVDbAjU",
        "colab_type": "text"
      },
      "source": [
        "### Cortar (Slicing) Cadenas\n",
        "\n",
        "**Slicing** en Python es un camino poderoso para extraer sub-partes de una cadena, listas y tuplas.\n",
        "\n",
        "```\n",
        "str[start:end]\n",
        "````\n",
        "**start**: sub-cadena inicia desde este elemento\n",
        "\n",
        "**end**: fin sub-cadena, excluye el elemento en este index.\n",
        "\n",
        "|G|r|u|p|o|\n",
        "|-|-|-|-|-|\n",
        "|0|1|2|3|4|\n",
        "\n",
        "```python\n",
        "cadena = \"Grupo\"\n",
        "print(cadena[0:2])\n",
        "```\n",
        "|G|r|\n",
        "|-|-|\n",
        "|0|1|\n"
      ]
    },
    {
      "cell_type": "code",
      "metadata": {
        "id": "bYxBWAfha9JH",
        "colab_type": "code",
        "colab": {}
      },
      "source": [
        "cadena = \"Grupo\"\n",
        "print(cadena[0:2])"
      ],
      "execution_count": 0,
      "outputs": []
    },
    {
      "cell_type": "code",
      "metadata": {
        "id": "RC9_OuVYaDfS",
        "colab_type": "code",
        "colab": {}
      },
      "source": [
        "# Sub-cadena desde la posicion inicial, 4 caracteres.\n",
        "print(cadena[0:4])"
      ],
      "execution_count": 0,
      "outputs": []
    },
    {
      "cell_type": "code",
      "metadata": {
        "id": "TvEA0WgEcbwD",
        "colab_type": "code",
        "colab": {}
      },
      "source": [
        "# Exactamente igual al anterior, solo que el 0 es el índice inicial implícito)\n",
        "print(cadena[:4])"
      ],
      "execution_count": 0,
      "outputs": []
    },
    {
      "cell_type": "code",
      "metadata": {
        "id": "_BaUosZ4df_C",
        "colab_type": "code",
        "colab": {}
      },
      "source": [
        "# Sub-cadena desde el cuarto caracter hasta el final\n",
        "print(cadena[4:])"
      ],
      "execution_count": 0,
      "outputs": []
    },
    {
      "cell_type": "code",
      "metadata": {
        "id": "HhjF7fNzfYSD",
        "colab_type": "code",
        "colab": {}
      },
      "source": [
        "# Sub-cadena desde el caracter en la posicion 1 hasta el caracter en la posicion 4\n",
        "print(cadena[1:4])"
      ],
      "execution_count": 0,
      "outputs": []
    },
    {
      "cell_type": "code",
      "metadata": {
        "id": "dHhDxLfNfnMP",
        "colab_type": "code",
        "colab": {}
      },
      "source": [
        "# Sub-cadena con indices negativos, el -1 es el índice final implícito.\n",
        "print(cadena[-3:])"
      ],
      "execution_count": 0,
      "outputs": []
    },
    {
      "cell_type": "code",
      "metadata": {
        "id": "_43uhB74fwah",
        "colab_type": "code",
        "colab": {}
      },
      "source": [
        "# Sub-cadena con indices negativos\n",
        "print(cadena[-4:-1])"
      ],
      "execution_count": 0,
      "outputs": []
    },
    {
      "cell_type": "markdown",
      "metadata": {
        "id": "7aZp14WQgk-b",
        "colab_type": "text"
      },
      "source": [
        "## Manejo de Listas\n",
        "\n",
        "Una lista es un arreglo de elementos donde podemos ingresar cualquier tipo de dato, para acceder a estos datos lo podemos hacer mediante un índice."
      ]
    },
    {
      "cell_type": "code",
      "metadata": {
        "id": "rJfiHrfOhdOI",
        "colab_type": "code",
        "colab": {}
      },
      "source": [
        "lista = [1,2.5,'Grupo',[1,2],10,'Grupo']"
      ],
      "execution_count": 0,
      "outputs": []
    },
    {
      "cell_type": "code",
      "metadata": {
        "id": "Eqkpt_OehqHd",
        "colab_type": "code",
        "colab": {}
      },
      "source": [
        "print(\"Primer elemento de la lista: \",lista[0])\n",
        "print(\"Ultimo elemento de la lista: \",lista[-1])"
      ],
      "execution_count": 0,
      "outputs": []
    },
    {
      "cell_type": "code",
      "metadata": {
        "id": "hrQ2yMfjh-Le",
        "colab_type": "code",
        "colab": {}
      },
      "source": [
        "# Obtener el elemento de la posicion 3\n",
        "print(lista[3])"
      ],
      "execution_count": 0,
      "outputs": []
    },
    {
      "cell_type": "markdown",
      "metadata": {
        "id": "2K5o5O7aiOXq",
        "colab_type": "text"
      },
      "source": [
        "Si la posición 3 es una lista, para acceder a los elementos de esta lista se realiza de la siguiente manera."
      ]
    },
    {
      "cell_type": "code",
      "metadata": {
        "id": "vZZHIxiCiKF-",
        "colab_type": "code",
        "colab": {}
      },
      "source": [
        "# Obtener el elemento de la posicion 3, obtener el elemento 1 de esta lista\n",
        "print(lista[3][1])"
      ],
      "execution_count": 0,
      "outputs": []
    },
    {
      "cell_type": "code",
      "metadata": {
        "id": "UUduKW-ZiNa0",
        "colab_type": "code",
        "colab": {}
      },
      "source": [
        "# Obtener los elementos de la posicion 1 hasta la 3\n",
        "print(lista[1:3])"
      ],
      "execution_count": 0,
      "outputs": []
    },
    {
      "cell_type": "code",
      "metadata": {
        "id": "K56Tf3SDiv9D",
        "colab_type": "code",
        "colab": {}
      },
      "source": [
        "# Adicionar un elemento a la lista\n",
        "lista.append('Nuevo')\n",
        "print(lista)"
      ],
      "execution_count": 0,
      "outputs": []
    },
    {
      "cell_type": "code",
      "metadata": {
        "id": "jL7rmUmEjQf3",
        "colab_type": "code",
        "colab": {}
      },
      "source": [
        "# Extend permite agregar elementos pero al agregar una lista cada elemento de esta se agrega como un elemento mas dentro de la otra lista\n",
        "lista.extend(['Elemento',45])\n",
        "print(lista)"
      ],
      "execution_count": 0,
      "outputs": []
    },
    {
      "cell_type": "code",
      "metadata": {
        "id": "l9PyPRKsAJOZ",
        "colab_type": "code",
        "colab": {}
      },
      "source": [
        "# Inserta un elemento en la posicion dada\n",
        "lista.insert(3,1)\n",
        "print(lista)"
      ],
      "execution_count": 0,
      "outputs": []
    },
    {
      "cell_type": "code",
      "metadata": {
        "id": "oBzaPwCSjh9X",
        "colab_type": "code",
        "colab": {}
      },
      "source": [
        "# Eliminar un elemento de la lista\n",
        "lista.remove(10)\n",
        "print(lista)"
      ],
      "execution_count": 0,
      "outputs": []
    },
    {
      "cell_type": "code",
      "metadata": {
        "id": "PYAuUj1Ajrct",
        "colab_type": "code",
        "colab": {}
      },
      "source": [
        "# Devuelve el número de indice del elemento que le pasamor por parámetro\n",
        "print(lista.index('Grupo'))"
      ],
      "execution_count": 0,
      "outputs": []
    },
    {
      "cell_type": "code",
      "metadata": {
        "id": "1aH6nX11AiWG",
        "colab_type": "code",
        "colab": {}
      },
      "source": [
        "# Devuelve el elemento en la posicion dada de la lista y lo elimina\n",
        "print(lista.pop(2))\n",
        "print(lista)"
      ],
      "execution_count": 0,
      "outputs": []
    },
    {
      "cell_type": "code",
      "metadata": {
        "id": "9R6HePjPkA-Q",
        "colab_type": "code",
        "colab": {}
      },
      "source": [
        "# Devuelve cuantas veces un elemento de una lista se repite\n",
        "print(lista.count('Grupo'))"
      ],
      "execution_count": 0,
      "outputs": []
    },
    {
      "cell_type": "code",
      "metadata": {
        "id": "i3OWc52-kMZH",
        "colab_type": "code",
        "colab": {}
      },
      "source": [
        "# Invertir los elementos de una lista\n",
        "lista.reverse()\n",
        "print(lista)"
      ],
      "execution_count": 0,
      "outputs": []
    },
    {
      "cell_type": "code",
      "metadata": {
        "id": "djMAaRAay0cc",
        "colab_type": "code",
        "colab": {}
      },
      "source": [
        "help(lista.reverse())"
      ],
      "execution_count": 0,
      "outputs": []
    },
    {
      "cell_type": "code",
      "metadata": {
        "id": "svNMggBgCq6_",
        "colab_type": "code",
        "colab": {}
      },
      "source": [
        "# Las listas son mutables\n",
        "lista[0] = 3\n",
        "print(lista)"
      ],
      "execution_count": 0,
      "outputs": []
    },
    {
      "cell_type": "code",
      "metadata": {
        "id": "1s6yNFss1HLM",
        "colab_type": "code",
        "colab": {}
      },
      "source": [
        "3 in lista"
      ],
      "execution_count": 0,
      "outputs": []
    },
    {
      "cell_type": "markdown",
      "metadata": {
        "id": "cww9WuV7Atw5",
        "colab_type": "text"
      },
      "source": [
        "## Manejo de Diccionarios\n",
        "\n",
        "Al contrario de las listas los diccionarios no tienen orden, un diccionario es una palabra que tiene asociado algo.\n",
        "\n",
        "Se crean poniendo sus elementos entre llaves (`{\"a\":\"Alicante\",\"b\":\"Barcelona\"}`). Se denominan keys a las **palabras** y values a las **definiciones**. Lógicamente no puede haber dos keys iguales, pero si dos values iguales.\n"
      ]
    },
    {
      "cell_type": "code",
      "metadata": {
        "id": "_fJ3dy5fAsw-",
        "colab_type": "code",
        "colab": {}
      },
      "source": [
        "diccionario = {'Piloto 1':'Fernando Alonso', 'Piloto 2':'Kimi Raikkonen', 'Piloto 3':'Felipe Massa'}\n",
        "print(diccionario)"
      ],
      "execution_count": 0,
      "outputs": []
    },
    {
      "cell_type": "code",
      "metadata": {
        "id": "nKRs88CoCL8y",
        "colab_type": "code",
        "colab": {}
      },
      "source": [
        "# Devuelve el valor que corresponde con la key introducida.\n",
        "print(diccionario.get('Piloto 1'))\n",
        "print(diccionario['Piloto 1'])"
      ],
      "execution_count": 0,
      "outputs": []
    },
    {
      "cell_type": "code",
      "metadata": {
        "id": "7rore5CBCYmu",
        "colab_type": "code",
        "colab": {}
      },
      "source": [
        "# Devuelve el valor que corresponde con la key introducida, y luego borra la key y el valor.\n",
        "print(diccionario.pop('Piloto 1'))\n",
        "print(diccionario)"
      ],
      "execution_count": 0,
      "outputs": []
    },
    {
      "cell_type": "code",
      "metadata": {
        "id": "S6sRHQy-CmkT",
        "colab_type": "code",
        "colab": {}
      },
      "source": [
        "# Actualiza el valor de una determinada key o lo crea si no existe.\n",
        "diccionario.update({'Piloto 4':'Lewis Hamilton'})\n",
        "diccionario.update({'Piloto 2':'Sebastian Vettel'})\n",
        "print(diccionario)"
      ],
      "execution_count": 0,
      "outputs": []
    },
    {
      "cell_type": "code",
      "metadata": {
        "id": "0DONnb6b0V8G",
        "colab_type": "code",
        "colab": {}
      },
      "source": [
        "diccionario['Piloto 5'] = 'Juan Perez'\n",
        "print(diccionario)"
      ],
      "execution_count": 0,
      "outputs": []
    },
    {
      "cell_type": "code",
      "metadata": {
        "id": "RpqEwTofC-hX",
        "colab_type": "code",
        "colab": {}
      },
      "source": [
        "# \"key\" in diccionario: devuelve verdadero (True) o falso (False) si la key existe en el diccionario.\n",
        "print (\"Piloto 2\" in diccionario)\n",
        "print (\"piloto 1\" in diccionario)\n",
        "print (\"Sebastian Vettel\" in diccionario)"
      ],
      "execution_count": 0,
      "outputs": []
    },
    {
      "cell_type": "code",
      "metadata": {
        "id": "ZMddoLF0DOXe",
        "colab_type": "code",
        "colab": {}
      },
      "source": [
        "# \"definición\" in diccionario.values(): devuelve verdadero (True) o falso (False) si la definición existe en el diccionario.\n",
        "print (\"Sebastian Vettel\" in diccionario.values())"
      ],
      "execution_count": 0,
      "outputs": []
    },
    {
      "cell_type": "code",
      "metadata": {
        "id": "yQFfmXyCDTAb",
        "colab_type": "code",
        "colab": {}
      },
      "source": [
        "# del diccionario['key']: Elimina el valor (y el key) asociado a la key indicada.\n",
        "del diccionario['Piloto 2']\n",
        "print(diccionario)"
      ],
      "execution_count": 0,
      "outputs": []
    },
    {
      "cell_type": "markdown",
      "metadata": {
        "id": "SGhcO1nd_7qa",
        "colab_type": "text"
      },
      "source": [
        "## Manejo de Tuplas\n",
        "\n",
        "Las tuplas son inmutables, una vez creada, no se puede cambiar ni su contenido ni su tamaño."
      ]
    },
    {
      "cell_type": "code",
      "metadata": {
        "id": "0iID8f9fFr6r",
        "colab_type": "code",
        "colab": {}
      },
      "source": [
        "tuple1 = (1,2,3,4,5)\n",
        "tuple2 = (6,7,8,9,10)"
      ],
      "execution_count": 0,
      "outputs": []
    },
    {
      "cell_type": "code",
      "metadata": {
        "id": "2YqtrLDNFxW4",
        "colab_type": "code",
        "colab": {}
      },
      "source": [
        "# Concatenar tuplas\n",
        "tuple3 = tuple1 + tuple2\n",
        "print(tuple3)"
      ],
      "execution_count": 0,
      "outputs": []
    },
    {
      "cell_type": "code",
      "metadata": {
        "id": "zBobFz2QF_LE",
        "colab_type": "code",
        "colab": {}
      },
      "source": [
        "# Repetir tuplas\n",
        "print(tuple1 * 3)"
      ],
      "execution_count": 0,
      "outputs": []
    },
    {
      "cell_type": "code",
      "metadata": {
        "id": "sgAWbjg6GEbd",
        "colab_type": "code",
        "colab": {}
      },
      "source": [
        "# Validar si un elemento esta en la tupla\n",
        "print(7 in tuple1)\n",
        "print(7 in tuple2)"
      ],
      "execution_count": 0,
      "outputs": []
    },
    {
      "cell_type": "code",
      "metadata": {
        "id": "cqgdN7jpGOEM",
        "colab_type": "code",
        "colab": {}
      },
      "source": [
        "# Devuelve el indice del elemento\n",
        "print(tuple1.index(5))"
      ],
      "execution_count": 0,
      "outputs": []
    },
    {
      "cell_type": "code",
      "metadata": {
        "id": "drA9XgaDGZHt",
        "colab_type": "code",
        "colab": {}
      },
      "source": [
        "# Devuelve cuantas veces esta un elemento repetido\n",
        "tuple4 = (65,67,5,67,34,76,67,231,98,67)\n",
        "print(tuple4.count(67))"
      ],
      "execution_count": 0,
      "outputs": []
    },
    {
      "cell_type": "code",
      "metadata": {
        "id": "bI1ej2m4GqMW",
        "colab_type": "code",
        "colab": {}
      },
      "source": [
        "# Indexación\n",
        "print(tuple4[4])\n",
        "print(tuple4[-4])\n",
        "print(tuple4[:4])\n",
        "print(tuple4[5:])\n",
        "print(tuple4[-6:-2])\n",
        "print(tuple4[3:6])"
      ],
      "execution_count": 0,
      "outputs": []
    },
    {
      "cell_type": "markdown",
      "metadata": {
        "id": "e091jzoIgnHz",
        "colab_type": "text"
      },
      "source": [
        "## Funciones de Usuario\n",
        "\n",
        "En Python, la definición de funciones se realiza mediante la instruccion `def`.  La definición de la función finaliza con dos puntos (`:`) y el algoritmo que la compone, irá con tabulación.\n",
        "\n"
      ]
    },
    {
      "cell_type": "code",
      "metadata": {
        "id": "B-oMd4YVgh-3",
        "colab_type": "code",
        "colab": {}
      },
      "source": [
        "def miFuncion():\n",
        "  print(\"Hola Mundo\")"
      ],
      "execution_count": 0,
      "outputs": []
    },
    {
      "cell_type": "code",
      "metadata": {
        "id": "EX3W5HRJgCGY",
        "colab_type": "code",
        "colab": {}
      },
      "source": [
        "miFuncion()"
      ],
      "execution_count": 0,
      "outputs": []
    },
    {
      "cell_type": "code",
      "metadata": {
        "id": "nWFS9JEv2_88",
        "colab_type": "code",
        "colab": {}
      },
      "source": [
        "valor = miFuncion()\n",
        "print(valor)"
      ],
      "execution_count": 0,
      "outputs": []
    },
    {
      "cell_type": "markdown",
      "metadata": {
        "id": "nt47tYe6lXk4",
        "colab_type": "text"
      },
      "source": [
        "Las funciones tambien pueden retornar un valor, este puede ser asignado a una variable.\n",
        "\n",
        "```Python\n",
        "def miFuncion():\n",
        "  return \"Hola Mundo\"\n",
        "````"
      ]
    },
    {
      "cell_type": "code",
      "metadata": {
        "id": "aBZ2fGXslUKW",
        "colab_type": "code",
        "colab": {}
      },
      "source": [
        "def miFuncion():\n",
        "  return \"Hola Mundo\""
      ],
      "execution_count": 0,
      "outputs": []
    },
    {
      "cell_type": "code",
      "metadata": {
        "id": "iwUwBPdmln5G",
        "colab_type": "code",
        "colab": {}
      },
      "source": [
        "mensaje = miFuncion()\n",
        "print(mensaje)\n",
        "print(miFuncion())"
      ],
      "execution_count": 0,
      "outputs": []
    },
    {
      "cell_type": "markdown",
      "metadata": {
        "id": "UnADeiPAlvbJ",
        "colab_type": "text"
      },
      "source": [
        "Las funciones tambien pueden recibir parametros de entrada.\n",
        "\n",
        "```Python\n",
        "def miFuncion(nombre, apellido):\n",
        "  return nombre + ' ' + apellido\n",
        "````"
      ]
    },
    {
      "cell_type": "code",
      "metadata": {
        "id": "Jkk_pRIGlr5R",
        "colab_type": "code",
        "colab": {}
      },
      "source": [
        "def miFuncion(nombre, apellido):\n",
        "  return nombre + ' ' + apellido"
      ],
      "execution_count": 0,
      "outputs": []
    },
    {
      "cell_type": "code",
      "metadata": {
        "id": "RHNUpJVPl-Ab",
        "colab_type": "code",
        "colab": {}
      },
      "source": [
        "mensaje = miFuncion(\"Juan\",\"Perez\")\n",
        "print(mensaje)"
      ],
      "execution_count": 0,
      "outputs": []
    },
    {
      "cell_type": "markdown",
      "metadata": {
        "id": "som2cF3NoNNi",
        "colab_type": "text"
      },
      "source": [
        "Las funciones pueden tener parametros de entrada con valores por defecto.\n",
        "\n",
        "```Python\n",
        "def miFuncion(nombre, apellido, mensaje = 'Hola'):\n",
        "  return mensaje + ' ' + nombre + ' ' + apellido\n",
        "````"
      ]
    },
    {
      "cell_type": "code",
      "metadata": {
        "id": "ORPtW5HcoerO",
        "colab_type": "code",
        "colab": {}
      },
      "source": [
        "def miFuncion(nombre, apellido, mensaje = 'Hola'):\n",
        "  return mensaje + ' ' + nombre + ' ' + apellido"
      ],
      "execution_count": 0,
      "outputs": []
    },
    {
      "cell_type": "code",
      "metadata": {
        "id": "zDWgEwOOoh7_",
        "colab_type": "code",
        "colab": {}
      },
      "source": [
        "mensaje = miFuncion(\"Juan\",\"Perez\")\n",
        "print(mensaje)"
      ],
      "execution_count": 0,
      "outputs": []
    },
    {
      "cell_type": "code",
      "metadata": {
        "id": "fSS2k2ZQojfM",
        "colab_type": "code",
        "colab": {}
      },
      "source": [
        "mensaje = miFuncion(\"Juan\",\"Perez\",\"Chao\")\n",
        "print(mensaje)"
      ],
      "execution_count": 0,
      "outputs": []
    },
    {
      "cell_type": "markdown",
      "metadata": {
        "id": "hFTNODUAmD-v",
        "colab_type": "text"
      },
      "source": [
        "### Ejercicio 4\n",
        "\n",
        "Escriba una función que calcule un valor según una formula dada:\n",
        "\n",
        "$Q = sqrt( (2 * C)/H )$\n",
        "\n",
        "$C$ Es un numero entero\n",
        "\n",
        "$H$ Es un numero entero\n",
        "\n",
        "La función debe de retornar el valor de $Q$.\n",
        "\n",
        "**Tip:** En Python se pueden importar librerias o paquetes usando `import`, para este ejercicio se importarña la libreria de matematicas `math`. Para usar el metodo `sqrt` se realiza el llamado de la siguiente manera `math.sqrt(numero)`"
      ]
    },
    {
      "cell_type": "code",
      "metadata": {
        "id": "IPmk2xcim1s2",
        "colab_type": "code",
        "colab": {}
      },
      "source": [
        "# Su Codigo"
      ],
      "execution_count": 0,
      "outputs": []
    },
    {
      "cell_type": "markdown",
      "metadata": {
        "id": "MEZrtKFBo9D3",
        "colab_type": "text"
      },
      "source": [
        "### Ejercicio 5\n",
        "\n",
        "Escriba una función que calcule el area de un triangulo:\n",
        "\n",
        "$Area = (Base*Altura)/2 $\n",
        "\n",
        "$Base$ Es un numero entero o real.\n",
        "$Altura$ Es un numero entero o real.\n",
        "\n",
        "La función debe de retornar el valor del $Area$."
      ]
    },
    {
      "cell_type": "code",
      "metadata": {
        "id": "zYVK465Oo8R2",
        "colab_type": "code",
        "colab": {}
      },
      "source": [
        "# Su Codigo"
      ],
      "execution_count": 0,
      "outputs": []
    },
    {
      "cell_type": "markdown",
      "metadata": {
        "id": "6d7bbtJhp4KL",
        "colab_type": "text"
      },
      "source": [
        "### Ejercicio 6\n",
        "\n",
        "Escriba una función que reciba como parametro un número entero y una lista, debe de adicionar a la lista el numero elevado al cubo y devolver la lista con el nuevo elemento."
      ]
    },
    {
      "cell_type": "code",
      "metadata": {
        "id": "hal1dT42p1tC",
        "colab_type": "code",
        "colab": {}
      },
      "source": [
        "# Su Codigo"
      ],
      "execution_count": 0,
      "outputs": []
    },
    {
      "cell_type": "markdown",
      "metadata": {
        "id": "_BJi1dmXHe9e",
        "colab_type": "text"
      },
      "source": [
        "## Conjuntos en Python\n",
        "\n",
        "Python tiene un tipo de dato `set` el cual nos permite trabajar con conjuntos y realizar operaciones de conjuntos con estas variables.  Se define entre llaves (`{}`) y se separan los elementos con comas. \n",
        "\n",
        "```python\n",
        "conjunto = {1,2,3}\n",
        "````"
      ]
    },
    {
      "cell_type": "code",
      "metadata": {
        "id": "vH2b2v91HeGu",
        "colab_type": "code",
        "colab": {}
      },
      "source": [
        "# Definiendo conjuntos\n",
        "c1 = {1, 2, 3, 4, 5, 6}\n",
        "c2 = {2, 4, 6, 8, 10}\n",
        "c3 = {1, 2, 3}\n",
        "c4 = {4, 5, 6}"
      ],
      "execution_count": 0,
      "outputs": []
    },
    {
      "cell_type": "code",
      "metadata": {
        "id": "1ZN6ZH3zIGFu",
        "colab_type": "code",
        "colab": {}
      },
      "source": [
        "# Union de conjuntos\n",
        "print(c1|c2)\n",
        "print(c1|c2|c3)"
      ],
      "execution_count": 0,
      "outputs": []
    },
    {
      "cell_type": "code",
      "metadata": {
        "id": "06giFyw4IhSG",
        "colab_type": "code",
        "colab": {}
      },
      "source": [
        "# Tambien puede hacerse la union con el metodo\n",
        "print(c1.union(c2))"
      ],
      "execution_count": 0,
      "outputs": []
    },
    {
      "cell_type": "code",
      "metadata": {
        "id": "PU7yfesqIKnD",
        "colab_type": "code",
        "colab": {}
      },
      "source": [
        "# Intersección de conjuntos\n",
        "print(c1&c2)\n",
        "print(c1 & c2 & c3 & c4)"
      ],
      "execution_count": 0,
      "outputs": []
    },
    {
      "cell_type": "code",
      "metadata": {
        "id": "lBva9uaFIm7z",
        "colab_type": "code",
        "colab": {}
      },
      "source": [
        "# Tambien puede hacerse la intersección con el metodo\n",
        "print(c1.intersection(c2,c3))"
      ],
      "execution_count": 0,
      "outputs": []
    },
    {
      "cell_type": "code",
      "metadata": {
        "id": "yflsGQ9hIW9t",
        "colab_type": "code",
        "colab": {}
      },
      "source": [
        "# Diferencia de conjuntos\n",
        "print(c1-c2)"
      ],
      "execution_count": 0,
      "outputs": []
    },
    {
      "cell_type": "code",
      "metadata": {
        "id": "aEMq5n2MJAns",
        "colab_type": "code",
        "colab": {}
      },
      "source": [
        "# Diferencia de conjuntos con el metodo\n",
        "print(c1.difference(c2))"
      ],
      "execution_count": 0,
      "outputs": []
    },
    {
      "cell_type": "code",
      "metadata": {
        "id": "CF1rCOAXIbpC",
        "colab_type": "code",
        "colab": {}
      },
      "source": [
        "# Union exclusiva\n",
        "print(c1^c2)"
      ],
      "execution_count": 0,
      "outputs": []
    },
    {
      "cell_type": "code",
      "metadata": {
        "id": "Z82kOAwuJHrr",
        "colab_type": "code",
        "colab": {}
      },
      "source": [
        "# Union exclusiva con el metodo\n",
        "print(c1.symmetric_difference(c2))"
      ],
      "execution_count": 0,
      "outputs": []
    },
    {
      "cell_type": "markdown",
      "metadata": {
        "id": "pqHkQ1qn7Dwk",
        "colab_type": "text"
      },
      "source": [
        "## Estructuras de control\n",
        "\n",
        "### Ciclos FOR\n",
        "\n",
        "Los ciclos For en Python son simples. La estructura basica esta dada por **`for <var-name> in <iterable> :`**\n",
        "**Importante** finalizando el for siempre debe de ir **:**, es obligatorio y para los constructores del flujo de control son obligación. \n",
        "\n",
        "El bloque que sera iterado esta determinado por la tabulación de las lineas siguientes del for.   \n",
        "   \n",
        "La linea en blanco despues de las dos sentencias no es obligatoria, pero es considerada buena practica. Las lineas luego del ciclo for no llevan tabulación, por lo tanto ya estan fuera del ciclo."
      ]
    },
    {
      "cell_type": "code",
      "metadata": {
        "id": "lSixF4Ga7C3R",
        "colab_type": "code",
        "colab": {}
      },
      "source": [
        "string_list = [ \"Juan\", \"is\", \"1.70\", \"metres\", \"high\"]"
      ],
      "execution_count": 0,
      "outputs": []
    },
    {
      "cell_type": "code",
      "metadata": {
        "id": "A28Sqg6Y7Joj",
        "colab_type": "code",
        "colab": {}
      },
      "source": [
        "for elem in string_list : \n",
        "    print( elem )\n",
        "    print( len(elem), 'characters\\n' )\n",
        "    \n",
        "print( \"The loop is done\")"
      ],
      "execution_count": 0,
      "outputs": []
    },
    {
      "cell_type": "code",
      "metadata": {
        "id": "cmT-cI_yBqWG",
        "colab_type": "code",
        "colab": {}
      },
      "source": [
        "for idx in range(len(string_list)):\n",
        "  print(idx)\n",
        "  print(string_list[idx])\n",
        "  print(len(string_list[idx]))"
      ],
      "execution_count": 0,
      "outputs": []
    },
    {
      "cell_type": "markdown",
      "metadata": {
        "id": "GsZQs3v57OAR",
        "colab_type": "text"
      },
      "source": [
        "#### Otra forma de iterar un ciclo for : range ( a, b, s )\n",
        "\n",
        "Una forma común de iterar un ciclo for es desde 0 hasta n-1.  Esto se puede implementar con una funcion range."
      ]
    },
    {
      "cell_type": "code",
      "metadata": {
        "id": "36Le1FsL7Qfk",
        "colab_type": "code",
        "colab": {}
      },
      "source": [
        "n = 10 # desired number of iterations\n",
        "\n",
        "for  i in range(0,10) : \n",
        "    print( f\"i = {i}\")"
      ],
      "execution_count": 0,
      "outputs": []
    },
    {
      "cell_type": "code",
      "metadata": {
        "id": "HW1jcO9a7SFM",
        "colab_type": "code",
        "colab": {}
      },
      "source": [
        "for  i in range(3,10) : \n",
        "    print( f\"i = {i}\")"
      ],
      "execution_count": 0,
      "outputs": []
    },
    {
      "cell_type": "code",
      "metadata": {
        "id": "MDOf7ZMA7VvR",
        "colab_type": "code",
        "colab": {}
      },
      "source": [
        "for  i in range(20, 3, -5) : \n",
        "    print( f\"i = {i}\")"
      ],
      "execution_count": 0,
      "outputs": []
    },
    {
      "cell_type": "markdown",
      "metadata": {
        "id": "TVYDGddg7XHh",
        "colab_type": "text"
      },
      "source": [
        "### Condicional IF - ELIF - ELSE\n",
        "\n",
        "**Nota:**\n",
        "\n",
        "* No hay paréntesis alrededor de las condiciones booleanas. \n",
        "* Puede haber tantas ramas elif como desee cada una con una condición explícita.\n",
        "* ¡Sólo puede haber una más al final, sin condición, por supuesto!"
      ]
    },
    {
      "cell_type": "code",
      "metadata": {
        "id": "e5IINCKi7bq0",
        "colab_type": "code",
        "colab": {}
      },
      "source": [
        "z = -6\n",
        "if  z > 10 :   \n",
        "    print( \"A: This is big!!!\")\n",
        "    print( \"B: That's what she said!\")\n",
        "elif z == 0 : \n",
        "    print( \"z is Zero!!!\")\n",
        "elif z > -10 : \n",
        "    print( \"z is between -10 and 10 but not zero\")\n",
        "else : \n",
        "    print( \"z is probably negative. Who knows... computers are weird...\")"
      ],
      "execution_count": 0,
      "outputs": []
    },
    {
      "cell_type": "code",
      "metadata": {
        "id": "jgiwzvtaAoNg",
        "colab_type": "code",
        "colab": {}
      },
      "source": [
        "z = 11\n",
        "if  z > 10 and z == 0 :\n",
        "  print(\"ok\")\n",
        "else:\n",
        "  print(\"no\")   "
      ],
      "execution_count": 0,
      "outputs": []
    }
  ]
}