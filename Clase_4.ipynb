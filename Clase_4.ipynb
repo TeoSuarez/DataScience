{
 "cells": [
  {
   "cell_type": "code",
   "execution_count": 27,
   "metadata": {},
   "outputs": [],
   "source": [
    "import random\n",
    "from collections import Counter"
   ]
  },
  {
   "cell_type": "code",
   "execution_count": 31,
   "metadata": {},
   "outputs": [],
   "source": [
    "moneda = ('cara','sello')\n",
    "def tirar_moneda(moneda,intentos):\n",
    "    resultado = []\n",
    "    for i in range(intentos):\n",
    "        resultado.append(random.choice(moneda))\n",
    "    freq = dict(Counter(resultado))\n",
    "    str_resultado = 'cara: salio {cara} veces, probabilidad de {pcara:.2f}\\nsello: salio {sello} veces, probabilidad de {psello:.2f}'.format(cara=freq['cara'],pcara=freq['cara']/intentos*100,sello=freq['sello'],psello=freq['sello']/intentos*100)\n",
    "    return str_resultado#,resultado"
   ]
  },
  {
   "cell_type": "code",
   "execution_count": 30,
   "metadata": {},
   "outputs": [
    {
     "name": "stdout",
     "output_type": "stream",
     "text": [
      "('cara: salio 4 veces, probabilidad de 80.00\\nsello: salio 1 veces, probabilidad de 20.00', ['sello', 'cara', 'cara', 'cara', 'cara'])\n"
     ]
    }
   ],
   "source": [
    "intentos = 5\n",
    "print(tirar_moneda(moneda,intentos))"
   ]
  },
  {
   "cell_type": "code",
   "execution_count": 32,
   "metadata": {},
   "outputs": [
    {
     "name": "stdout",
     "output_type": "stream",
     "text": [
      "cara: salio 6 veces, probabilidad de 60.00\n",
      "sello: salio 4 veces, probabilidad de 40.00\n"
     ]
    }
   ],
   "source": [
    "intentos = 10\n",
    "print(tirar_moneda(moneda,intentos))"
   ]
  },
  {
   "cell_type": "code",
   "execution_count": 34,
   "metadata": {},
   "outputs": [
    {
     "name": "stdout",
     "output_type": "stream",
     "text": [
      "cara: salio 50 veces, probabilidad de 50.00\n",
      "sello: salio 50 veces, probabilidad de 50.00\n"
     ]
    }
   ],
   "source": [
    "intentos = 100\n",
    "print(tirar_moneda(moneda,intentos))"
   ]
  },
  {
   "cell_type": "code",
   "execution_count": 35,
   "metadata": {},
   "outputs": [
    {
     "name": "stdout",
     "output_type": "stream",
     "text": [
      "cara: salio 488 veces, probabilidad de 48.80\n",
      "sello: salio 512 veces, probabilidad de 51.20\n"
     ]
    }
   ],
   "source": [
    "intentos = 1000\n",
    "print(tirar_moneda(moneda,intentos))"
   ]
  },
  {
   "cell_type": "code",
   "execution_count": 36,
   "metadata": {},
   "outputs": [
    {
     "name": "stdout",
     "output_type": "stream",
     "text": [
      "cara: salio 5104 veces, probabilidad de 51.04\n",
      "sello: salio 4896 veces, probabilidad de 48.96\n"
     ]
    }
   ],
   "source": [
    "intentos = 10000\n",
    "print(tirar_moneda(moneda,intentos))"
   ]
  },
  {
   "cell_type": "code",
   "execution_count": 37,
   "metadata": {},
   "outputs": [],
   "source": [
    "dado = ('1','2','3','4','5','6')\n",
    "def tirar_dado(dado,intentos):\n",
    "    resultado = []\n",
    "    for i in range(intentos):\n",
    "        resultado.append(random.choice(dado))\n",
    "    freq = dict(Counter(resultado))\n",
    "    str_resultado = ''\n",
    "    for k in freq:\n",
    "        str_resultado = str_resultado + '{lado}: salio {clado} veces, probabilidad de {plado:.2f}\\n'.format(lado=k,clado=freq[k],plado=freq[k]/intentos*100)\n",
    "    return str_resultado#,resultado"
   ]
  },
  {
   "cell_type": "code",
   "execution_count": 38,
   "metadata": {},
   "outputs": [
    {
     "name": "stdout",
     "output_type": "stream",
     "text": [
      "4: salio 2 veces, probabilidad de 40.00\n",
      "1: salio 2 veces, probabilidad de 40.00\n",
      "6: salio 1 veces, probabilidad de 20.00\n",
      "\n"
     ]
    }
   ],
   "source": [
    "intentos = 5\n",
    "print(tirar_dado(dado,intentos))"
   ]
  },
  {
   "cell_type": "code",
   "execution_count": 39,
   "metadata": {},
   "outputs": [
    {
     "name": "stdout",
     "output_type": "stream",
     "text": [
      "3: salio 3 veces, probabilidad de 30.00\n",
      "5: salio 2 veces, probabilidad de 20.00\n",
      "4: salio 2 veces, probabilidad de 20.00\n",
      "1: salio 1 veces, probabilidad de 10.00\n",
      "2: salio 2 veces, probabilidad de 20.00\n",
      "\n"
     ]
    }
   ],
   "source": [
    "intentos = 10\n",
    "print(tirar_dado(dado,intentos))"
   ]
  },
  {
   "cell_type": "code",
   "execution_count": 79,
   "metadata": {},
   "outputs": [
    {
     "name": "stdout",
     "output_type": "stream",
     "text": [
      "1: salio 4 veces, probabilidad de 26.67\n",
      "6: salio 4 veces, probabilidad de 26.67\n",
      "3: salio 3 veces, probabilidad de 20.00\n",
      "2: salio 1 veces, probabilidad de 6.67\n",
      "5: salio 1 veces, probabilidad de 6.67\n",
      "4: salio 2 veces, probabilidad de 13.33\n",
      "\n"
     ]
    }
   ],
   "source": [
    "intentos = 15\n",
    "print(tirar_dado(dado,intentos))"
   ]
  },
  {
   "cell_type": "code",
   "execution_count": 44,
   "metadata": {},
   "outputs": [
    {
     "name": "stdout",
     "output_type": "stream",
     "text": [
      "4: salio 13 veces, probabilidad de 13.00\n",
      "1: salio 24 veces, probabilidad de 24.00\n",
      "3: salio 18 veces, probabilidad de 18.00\n",
      "6: salio 13 veces, probabilidad de 13.00\n",
      "5: salio 17 veces, probabilidad de 17.00\n",
      "2: salio 15 veces, probabilidad de 15.00\n",
      "\n"
     ]
    }
   ],
   "source": [
    "intentos = 100\n",
    "print(tirar_dado(dado,intentos))"
   ]
  },
  {
   "cell_type": "code",
   "execution_count": 42,
   "metadata": {},
   "outputs": [
    {
     "name": "stdout",
     "output_type": "stream",
     "text": [
      "3: salio 160 veces, probabilidad de 16.00\n",
      "4: salio 168 veces, probabilidad de 16.80\n",
      "6: salio 153 veces, probabilidad de 15.30\n",
      "2: salio 159 veces, probabilidad de 15.90\n",
      "5: salio 175 veces, probabilidad de 17.50\n",
      "1: salio 185 veces, probabilidad de 18.50\n",
      "\n"
     ]
    }
   ],
   "source": [
    "intentos = 1000\n",
    "print(tirar_dado(dado,intentos))"
   ]
  },
  {
   "cell_type": "code",
   "execution_count": 43,
   "metadata": {},
   "outputs": [
    {
     "name": "stdout",
     "output_type": "stream",
     "text": [
      "3: salio 1713 veces, probabilidad de 17.13\n",
      "4: salio 1681 veces, probabilidad de 16.81\n",
      "2: salio 1655 veces, probabilidad de 16.55\n",
      "5: salio 1715 veces, probabilidad de 17.15\n",
      "1: salio 1589 veces, probabilidad de 15.89\n",
      "6: salio 1647 veces, probabilidad de 16.47\n",
      "\n"
     ]
    }
   ],
   "source": [
    "intentos = 10000\n",
    "print(tirar_dado(dado,intentos))"
   ]
  },
  {
   "cell_type": "code",
   "execution_count": 121,
   "metadata": {},
   "outputs": [
    {
     "name": "stdout",
     "output_type": "stream",
     "text": [
      "1: salio 1765 veces, probabilidad de 16.81\n",
      "5: salio 1694 veces, probabilidad de 16.13\n",
      "3: salio 1689 veces, probabilidad de 16.09\n",
      "6: salio 1768 veces, probabilidad de 16.84\n",
      "4: salio 1807 veces, probabilidad de 17.21\n",
      "2: salio 1777 veces, probabilidad de 16.92\n",
      "\n"
     ]
    }
   ],
   "source": [
    "intentos = 10500\n",
    "print(tirar_dado(dado,intentos))"
   ]
  },
  {
   "cell_type": "code",
   "execution_count": null,
   "metadata": {},
   "outputs": [],
   "source": []
  }
 ],
 "metadata": {
  "kernelspec": {
   "display_name": "Python 3",
   "language": "python",
   "name": "python3"
  },
  "language_info": {
   "codemirror_mode": {
    "name": "ipython",
    "version": 3
   },
   "file_extension": ".py",
   "mimetype": "text/x-python",
   "name": "python",
   "nbconvert_exporter": "python",
   "pygments_lexer": "ipython3",
   "version": "3.8.1"
  }
 },
 "nbformat": 4,
 "nbformat_minor": 4
}
